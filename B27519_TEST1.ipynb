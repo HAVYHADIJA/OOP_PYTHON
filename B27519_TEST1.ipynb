{
 "cells": [
  {
   "cell_type": "markdown",
   "id": "ecd4488f",
   "metadata": {},
   "source": [
    "NAKALYOWA HADIJAH\n",
    "M24B13/029 \n",
    "B27519"
   ]
  },
  {
   "cell_type": "markdown",
   "id": "82033502",
   "metadata": {},
   "source": [
    "## QUESTION 1 - ENCAPSULATION IN DAILY REALITY"
   ]
  },
  {
   "cell_type": "markdown",
   "id": "0428f863",
   "metadata": {},
   "source": [
    "Encapsulation helps us to bundle data/attributes and behaviors/methods within a class to create a unified unit. By defining methods to control access to attributes and its modification, encapsulation helps maintain data integrity and promotes modular, secure code while Data hiding refers to restricting access to the internal state of an object. It’s achieved by making variables private and only allowing access through public methods (getters and setters).\n",
    "Encapusulation leaves room for the public to view while data hiding restricts viewing and modifying to people that only have access"
   ]
  },
  {
   "cell_type": "markdown",
   "id": "f1d49ebe",
   "metadata": {},
   "source": [
    "\n",
    "In a family, a parent may create a will to divide property among children after their death. The will is stored securely and can only be accessed by an authorized lawyer or family representative. If every family member could view or change it, conflicts or misuse could arise. Encapsulation works the same way the will’s details (data) are hidden inside a secure class, and only certain methods (like “read_will()”) can access it under specific conditions. This protects sensitive family information and ensures fairness when executing the will."
   ]
  },
  {
   "cell_type": "markdown",
   "id": "ee16c919",
   "metadata": {},
   "source": [
    "+----------------------+\n",
    "|         Will         |\n",
    "+----------------------+\n",
    "| - owner_name         |\n",
    "| - __inheritance_info |\n",
    "+----------------------+\n",
    "| + set_inheritance()  |\n",
    "| + read_will()        |\n",
    "+----------------------+\n"
   ]
  },
  {
   "cell_type": "code",
   "execution_count": null,
   "id": "4c8db40c",
   "metadata": {},
   "outputs": [
    {
     "ename": "",
     "evalue": "",
     "output_type": "error",
     "traceback": [
      "\u001b[1;31mRunning cells with 'Python 3.13.3' requires the ipykernel package.\n",
      "\u001b[1;31m<a href='command:jupyter.createPythonEnvAndSelectController'>Create a Python Environment</a> with the required packages."
     ]
    }
   ],
   "source": [
    "class Will:\n",
    "    def __init__(self):\n",
    "        self.__details = None  #private attribute (hidden)\n",
    "\n",
    "    # Setter method\n",
    "    def set_details(self, details):\n",
    "        self.__details = details\n",
    "        print(\"Will has been securely recorded.\")\n",
    "\n",
    "    # Getter method with validation\n",
    "    def read_will(self, person):\n",
    "        # Validation rule: only 'Family Lawyer' can read the will\n",
    "        if person != \"Family_Lawyer\":\n",
    "            raise PermissionError(\"Access denied! Only a Family Lawyer can read the will.\")\n",
    "        return f\"Will details: {self.__details}\"\n"
   ]
  },
  {
   "cell_type": "code",
   "execution_count": null,
   "id": "3b4022ed",
   "metadata": {},
   "outputs": [],
   "source": [
    "# Create the Will object\n",
    "family_will = Will()\n",
    "\n",
    "# --- Valid Run ---\n",
    "try:\n",
    "    family_will.set_details(\"My heir will be my Lastborn Son Matthew,  The House in Naalya to Mark my Oldest Son, Land to be divided equally between my two Daughters,Jane and Mary\")\n",
    "    print(family_will.read_will(\"Family_Lawyer\"))  # Allowed\n",
    "except PermissionError as e:\n",
    "    print(\"Error:\", e)\n",
    "\n",
    "# --- Invalid Run ---\n",
    "try:\n",
    "    print(family_will.read_will(\"family_member\"))  # Not allowed\n",
    "except PermissionError as e:\n",
    "    print(\"Error:\", e)\n"
   ]
  },
  {
   "cell_type": "markdown",
   "id": "37c2daa2",
   "metadata": {},
   "source": [
    "QUESTION2- ALPHA MIS SIMULATION"
   ]
  },
  {
   "cell_type": "markdown",
   "id": "1341d67c",
   "metadata": {},
   "source": [
    "### Encapsulation in a University Management System (Alpha MIS)\n",
    "\n",
    "Encapsulation in Alpha MIS helps protect academic records from unauthorized access or modification.  \n",
    "For example, a student’s Course registration details should only be changed through approved actions, not directly.  \n",
    "By keeping registration data private and using methods to add or view courses, encapsulation ensures data integrity and accuracy.  \n"
   ]
  },
  {
   "cell_type": "code",
   "execution_count": null,
   "id": "618ef84f",
   "metadata": {},
   "outputs": [],
   "source": [
    "from datetime import datetime\n",
    "\n",
    "class CourseRegistration:\n",
    "    def __init__(self, access_number, faculty):\n",
    "        self.access_number = access_number           # Public attribute\n",
    "        self._faculty = faculty                      # Protected attribute\n",
    "        self.__registered_courses = []               # Private attribute\n",
    "\n",
    "    #  Setter Method to register a course\n",
    "    def register_course(self, course_code):\n",
    "        # Validation 1: Cannot exceed 6 courses per semester\n",
    "        if len(self.__registered_courses) >= 6:\n",
    "            raise ValueError(\"You cannot register for more than 6 courses per semester.\")\n",
    "        \n",
    "        # Validation 2: Avoid duplicate course registration\n",
    "        if course_code in self.__registered_courses:\n",
    "            raise ValueError(f\"You have already registered for {course_code}.\")\n",
    "        \n",
    "        self.__registered_courses.append(course_code)\n",
    "        print(f\"Course {course_code} successfully registered.\")\n",
    "\n",
    "    # Getter Method to display all registered courses\n",
    "    def view_courses(self):\n",
    "        if not self.__registered_courses:\n",
    "            print(\"No courses registered yet.\")\n",
    "        else:\n",
    "            print(\"Registered Courses:\", self.__registered_courses)\n",
    "\n",
    "\n",
    "\n",
    "    # ---SUMMARY REPORT---\n",
    "    def summary(self):\n",
    "        print(\"\\n--- COURSE REGISTRATION SUMMARY ---\")\n",
    "        print(f\"Student: Nakalyowa Hadijah\")\n",
    "        print(f\"Access Number: {self.access_number}\")\n",
    "        print(f\"Faculty: {self._faculty}\")\n",
    "        print(f\"Total Courses: {len(self.__registered_courses)}\")\n",
    "        print(\"Timestamp:\", datetime.now())\n",
    "\n",
    "# --- Demonstration ---\n",
    "\n",
    "# Valid Run\n",
    "try:\n",
    "    reg1 = CourseRegistration(\"M24B13/029\", \"Faculty of Engineering, Design and Technology\")\n",
    "    reg1.add_course(\"DBS2101\")  # Database System\n",
    "    reg1.add_course(\"PRG2202\")  # Programming II\n",
    "    reg1.view_courses()\n",
    "    reg1.summary()\n",
    "except ValueError as e:\n",
    "    print(\"Error:\", e)\n",
    "\n",
    "# ❌ Invalid Run (Duplicate course)\n",
    "try:\n",
    "    reg2 = CourseRegistration(\"BSIT/23/002\", \"Computing Sciences and Engineering\")\n",
    "    reg2.add_course(\"PRG2202\")\n",
    "    reg2.add_course(\"PRG2202\")  # Duplicate\n",
    "except ValueError as e:\n",
    "    print(\"Error:\", e)\n"
   ]
  }
 ],
 "metadata": {
  "kernelspec": {
   "display_name": "Python 3",
   "language": "python",
   "name": "python3"
  },
  "language_info": {
   "name": "python",
   "version": "3.13.3"
  }
 },
 "nbformat": 4,
 "nbformat_minor": 5
}
