{
 "cells": [
  {
   "cell_type": "markdown",
   "id": "ecd4488f",
   "metadata": {},
   "source": [
    "NAKALYOWA HADIJAH\n",
    "M24B13/029 \n",
    "B27519"
   ]
  },
  {
   "cell_type": "markdown",
   "id": "82033502",
   "metadata": {},
   "source": [
    "## QUESTION 1 - ENCAPSULATION IN DAILY REALITY"
   ]
  },
  {
   "cell_type": "markdown",
   "id": "0428f863",
   "metadata": {},
   "source": [
    "Encapsulation helps us to bundle data/attributes and behaviors/methods within a class to create a unified unit. By defining methods to control access to attributes and its modification, encapsulation helps maintain data integrity and promotes modular, secure code while Data hiding refers to restricting access to the internal state of an object. It’s achieved by making variables private and only allowing access through public methods (getters and setters).\n",
    "Encapusulation leaves room for the public to view while data hiding restricts viewing and modifying to people that only have access"
   ]
  },
  {
   "cell_type": "markdown",
   "id": "f1d49ebe",
   "metadata": {},
   "source": [
    "Imagine you confide in a close friend about a personal issue. You trust them to keep your secret safe and only share it when necessary or when there is really a big problem and its only that information to help. If anyone could access your secret directly, your privacy would be at risk. In terms of OOP, this is where encapsulation helps your secret (data) is stored privately, and only trusted methods (like the friend’s judgment) can reveal it under specific conditions. This prevents misuse or accidental sharing of sensitive information, just like how encapsulation protects important data from unauthorized access.\n",
    "\n",
    "OR\n",
    "\n",
    "In a family, a parent may create a will to divide property among children after their death. The will is stored securely and can only be accessed by an authorized lawyer or family representative. If every family member could view or change it, conflicts or misuse could arise. Encapsulation works the same way the will’s details (data) are hidden inside a secure class, and only certain methods (like “read_will()”) can access it under specific conditions. This protects sensitive family information and ensures fairness when executing the will."
   ]
  },
  {
   "cell_type": "markdown",
   "id": "ee16c919",
   "metadata": {},
   "source": [
    "+----------------------+\n",
    "|         Will         |\n",
    "+----------------------+\n",
    "| - owner_name         |\n",
    "| - __inheritance_info |\n",
    "+----------------------+\n",
    "| + set_inheritance()  |\n",
    "| + read_will()        |\n",
    "+----------------------+\n"
   ]
  },
  {
   "cell_type": "code",
   "execution_count": null,
   "id": "4c8db40c",
   "metadata": {},
   "outputs": [],
   "source": [
    "class Will:\n",
    "    def __init__(self):\n",
    "        self.__details = None  #private attribute (hidden)\n",
    "\n",
    "    # Setter method\n",
    "    def set_details(self, details):\n",
    "        self.__details = details\n",
    "        print(\"Will has been securely recorded.\")\n",
    "\n",
    "    # Getter method with validation\n",
    "    def read_will(self, person):\n",
    "        # Validation rule: only 'lawyer' can read the will\n",
    "        if person != \"Lawyer\":\n",
    "            raise PermissionError(\"Access denied! Only a lawyer can read the will.\")\n",
    "        return f\"Will details: {self.__details}\"\n"
   ]
  },
  {
   "cell_type": "code",
   "execution_count": null,
   "id": "3b4022ed",
   "metadata": {},
   "outputs": [],
   "source": []
  }
 ],
 "metadata": {
  "language_info": {
   "name": "python"
  }
 },
 "nbformat": 4,
 "nbformat_minor": 5
}
