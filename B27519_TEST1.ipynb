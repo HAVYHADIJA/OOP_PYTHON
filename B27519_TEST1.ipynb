{
 "cells": [
  {
   "cell_type": "markdown",
   "id": "ecd4488f",
   "metadata": {},
   "source": [
    "NAKALYOWA HADIJAH\n",
    "M24B13/029 \n",
    "B27519"
   ]
  },
  {
   "cell_type": "markdown",
   "id": "82033502",
   "metadata": {},
   "source": [
    "## QUESTION 1 - ENCAPSULATION IN DAILY REALITY"
   ]
  },
  {
   "cell_type": "markdown",
   "id": "0428f863",
   "metadata": {},
   "source": [
    "Encapsulation helps us to bundle data/attributes and behaviors/methods within a class to create a unified unit. By defining methods to control access to attributes and its modification, encapsulation helps maintain data integrity and promotes modular, secure code while Data hiding refers to restricting access to the internal state of an object. It’s achieved by making variables private and only allowing access through public methods (getters and setters).\n",
    "Encapusulation leaves room for the public to view while data hiding restricts viewing and modifying to people that only have access"
   ]
  },
  {
   "cell_type": "markdown",
   "id": "f1d49ebe",
   "metadata": {},
   "source": [
    "\n",
    "In a family, a parent may create a will to divide property among children after their death. The will is stored securely and can only be accessed by an authorized lawyer or family representative. If every family member could view or change it, conflicts or misuse could arise. Encapsulation works the same way the will’s details (data) are hidden inside a secure class, and only certain methods (like “read_will()”) can access it under specific conditions. This protects sensitive family information and ensures fairness when executing the will."
   ]
  },
  {
   "cell_type": "markdown",
   "id": "ee16c919",
   "metadata": {},
   "source": [
    "+----------------------+\n",
    "|         Will         |\n",
    "+----------------------+\n",
    "| - owner_name         |\n",
    "| - __inheritance_info |\n",
    "+----------------------+\n",
    "| + set_inheritance()  |\n",
    "| + read_will()        |\n",
    "+----------------------+\n"
   ]
  },
  {
   "cell_type": "code",
   "execution_count": null,
   "id": "4c8db40c",
   "metadata": {},
   "outputs": [
    {
     "ename": "",
     "evalue": "",
     "output_type": "error",
     "traceback": [
      "\u001b[1;31mRunning cells with 'Python 3.13.3' requires the ipykernel package.\n",
      "\u001b[1;31m<a href='command:jupyter.createPythonEnvAndSelectController'>Create a Python Environment</a> with the required packages."
     ]
    }
   ],
   "source": [
    "class Will:\n",
    "    def __init__(self):\n",
    "        self.__details = None  #private attribute (hidden)\n",
    "\n",
    "    # Setter method\n",
    "    def set_details(self, details):\n",
    "        self.__details = details\n",
    "        print(\"Will has been securely recorded.\")\n",
    "\n",
    "    # Getter method with validation\n",
    "    def read_will(self, person):\n",
    "        # Validation rule: only 'Family Lawyer' can read the will\n",
    "        if person != \"Family_Lawyer\":\n",
    "            raise PermissionError(\"Access denied! Only a Family Lawyer can read the will.\")\n",
    "        return f\"Will details: {self.__details}\"\n"
   ]
  },
  {
   "cell_type": "code",
   "execution_count": null,
   "id": "3b4022ed",
   "metadata": {},
   "outputs": [],
   "source": [
    "# Create the Will object\n",
    "family_will = Will()\n",
    "\n",
    "# --- Valid Run ---\n",
    "try:\n",
    "    family_will.set_details(\"My heir will be my Lastborn Son Matthew,  The House in Naalya to Mark my Oldest Son, Land to be divided equally between my two Daughters,Jane and Mary\")\n",
    "    print(family_will.read_will(\"Family_Lawyer\"))  # Allowed\n",
    "except PermissionError as e:\n",
    "    print(\"Error:\", e)\n",
    "\n",
    "# --- Invalid Run ---\n",
    "try:\n",
    "    print(family_will.read_will(\"family_member\"))  # Not allowed\n",
    "except PermissionError as e:\n",
    "    print(\"Error:\", e)\n"
   ]
  },
  {
   "cell_type": "markdown",
   "id": "37c2daa2",
   "metadata": {},
   "source": [
    "QUESTION2- ALPHA MIS SIMULATION"
   ]
  },
  {
   "cell_type": "markdown",
   "id": "1341d67c",
   "metadata": {},
   "source": [
    "### Encapsulation in a University Management System (Alpha MIS)\n",
    "\n",
    "Encapsulation in Alpha MIS helps protect academic records from unauthorized access or modification.  \n",
    "For example, a student’s Course registration details should only be changed through approved actions, not directly.  \n",
    "By keeping registration data private and using methods to add or view courses, encapsulation ensures data integrity and accuracy.  \n"
   ]
  },
  {
   "cell_type": "code",
   "execution_count": null,
   "id": "618ef84f",
   "metadata": {},
   "outputs": [
    {
     "ename": "",
     "evalue": "",
     "output_type": "error",
     "traceback": [
      "\u001b[1;31mRunning cells with 'Python 3.13.3' requires the ipykernel package.\n",
      "\u001b[1;31mInstall 'ipykernel' into the Python environment. \n",
      "\u001b[1;31mCommand: 'c:/Users/user/AppData/Local/Programs/Python/Python313/python.exe -m pip install ipykernel -U --user --force-reinstall'"
     ]
    }
   ],
   "source": [
    "from datetime import datetime\n",
    "\n",
    "class CourseRegistration:\n",
    "    def __init__(self, access_number, faculty):\n",
    "        self.access_number = access_number      # Public attribute\n",
    "        self._faculty = faculty                # Protected attribute\n",
    "        self.__registered_courses = []         # Private attribute\n",
    "\n",
    "    #  Setter Method to register a course\n",
    "    def register_course(self, course_code):\n",
    "        # Validation 1: Cannot exceed 6 courses per semester\n",
    "        if len(self.__registered_courses) >= 6:\n",
    "            raise ValueError(\"You cannot register for more than 6 courses per semester.\")\n",
    "        \n",
    "        # Validation 2: Avoid duplicate course registration\n",
    "        if course_code in self.__registered_courses:\n",
    "            raise ValueError(f\"You have already registered for {course_code}.\")\n",
    "        \n",
    "        self.__registered_courses.append(course_code)\n",
    "        print(f\"Course {course_code} successfully registered.\")\n",
    "\n",
    "    # Getter Method to display all registered courses\n",
    "    def view_courses(self):\n",
    "        if not self.__registered_courses:\n",
    "            print(\"No courses registered yet.\")\n",
    "        else:\n",
    "            print(\"Registered Courses:\", self.__registered_courses)\n",
    "\n",
    "\n",
    "\n",
    "    # ---SUMMARY REPORT---\n",
    "    def summary(self):\n",
    "        print(\"\\n---COURSE REGISTRATION SUMMARY ---\")\n",
    "        print(f\"Student: Nakalyowa Hadijah\")\n",
    "        print(f\"Access Number: {self.access_number}\")\n",
    "        print(f\"Faculty: {self._faculty}\")\n",
    "        print(f\"Total Courses: {len(self.__registered_courses)}\")\n",
    "        print(\"Timestamp:\", datetime.now())\n",
    "\n",
    "# --- Demonstration ---\n",
    "\n",
    "# Valid Run\n",
    "try:\n",
    "    reg1 = CourseRegistration(\"B27519\", \"Faculty of Engineering, Design and Technology\")\n",
    "    reg1.add_course(\"ICT2108\")  #Advanced Computer Networking\n",
    "    reg1.add_course(\"ACC2151\")  #Fundamentals of Accounting\n",
    "    reg1.view_courses()\n",
    "    reg1.summary()\n",
    "except ValueError as e:\n",
    "    print(\"Error:\", e)\n",
    "\n",
    "#  Invalid Run (Duplicate course)\n",
    "try:\n",
    "    reg2 = CourseRegistration(\"M24B13/019\", \"Faculty of Engineering, Design and Technology\")\n",
    "    reg2.add_course(\"ICT2108\")\n",
    "    reg2.add_course(\"ICT2108\")  # Duplicate\n",
    "except ValueError as e:\n",
    "    print(\"Error:\", e)\n"
   ]
  },
  {
   "cell_type": "markdown",
   "id": "efb6c9af",
   "metadata": {},
   "source": [
    "QUESTION3- VISITOR LOG IMPLEMENTATION\n"
   ]
  },
  {
   "cell_type": "markdown",
   "id": "59a97259",
   "metadata": {},
   "source": [
    "A digital visitor log in UCU hostels helps maintain accountability by recording who visits each student, at what time, and in which hostel.  \n",
    "By storing visitor information digitally, hostel authorities can quickly check entries, monitor unusual patterns, and ensure security.  \n",
    "Unlike paper logs, a digital log reduces errors, prevents tampering, and allows quick retrieval of the latest visitor information.  \n",
    "Using encapsulation and validation ensures that the system only records valid visitor names and maintains an accurate, up-to-date log.\n"
   ]
  },
  {
   "cell_type": "code",
   "execution_count": null,
   "id": "01cb999a",
   "metadata": {},
   "outputs": [],
   "source": [
    "from datetime import datetime\n",
    "\n",
    "class VisitorLog:\n",
    "    def __init__(self):\n",
    "        self.__latest_entry = {}  #private dictionary\n",
    "\n",
    "    def record(self, student_id, hostel, visitor):\n",
    "        if not visitor.replace(\" \", \"\").isalpha():\n",
    "            raise ValueError(\"Visitor name must have only letters and spaces.\")\n",
    "        self.__latest_entry = {\n",
    "            \"StudentID\": student_id,\n",
    "            \"Hostel\": hostel,\n",
    "            \"Visitor\": visitor,\n",
    "            \"Time\": datetime.now()\n",
    "        }\n",
    "        print(\"Visitor recorded successfully.\")\n",
    "\n",
    "    def update(self, visitor=None, hostel=None):\n",
    "        if not self.__latest_entry:\n",
    "            raise KeyError(\"No existing visitor record to update.\")\n",
    "        if visitor:\n",
    "            if not visitor.replace(\" \", \"\").isalpha():\n",
    "                raise ValueError(\"Visitor name must have only letters and spaces.\")\n",
    "            self.__latest_entry[\"Visitor\"] = visitor\n",
    "        if hostel:\n",
    "            self.__latest_entry[\"Hostel\"] = hostel\n",
    "        self.__latest_entry[\"Time\"] = datetime.now()\n",
    "        print(\"Visitor record updated.\")\n",
    "\n",
    "    def show_line(self):\n",
    "        if not self.__latest_entry:\n",
    "            print(\"No record available.\")\n",
    "        else:\n",
    "            e = self.__latest_entry\n",
    "            print(f\"\\nAudit Log → {e['StudentID']} | {e['Hostel']} | {e['Visitor']} | {e['Time']}\\n\")\n",
    "\n",
    "\n",
    "# --- Demonstration ---\n",
    "\n",
    "log = VisitorLog()\n",
    "\n",
    "# Valid\n",
    "try:\n",
    "    log.record(\"UCU/IT/101\", \" Sabiiti Hostel \", \"Havy\")\n",
    "    log.show_line()\n",
    "except Exception as e:\n",
    "    print(\"Error:\", e)\n",
    "\n",
    "# Invalid\n",
    "try:\n",
    "    log.record(\"UCU/CS/102\", \"Nsibambi Hostel \", \"Jason12\")\n",
    "except Exception as e:\n",
    "    print(\"Error:\", e)\n",
    "\n",
    "# Update\n",
    "try:\n",
    "    log.update(visitor=\"Michael\")\n",
    "    log.show_line()\n",
    "except Exception as e:\n",
    "    print(\"Error:\", e)\n"
   ]
  },
  {
   "cell_type": "markdown",
   "id": "8965f461",
   "metadata": {},
   "source": [
    "QUESTION4 - CREATIVE ENCAPSULATION CHALLENGE"
   ]
  },
  {
   "cell_type": "markdown",
   "id": "7024b24b",
   "metadata": {},
   "source": [
    "In a Church Management System, particularly church tithe records, encapsulation helps protect confidential financial data because if people have access to someones 10%,they know can know their salary which can cause issues.   \n",
    "By keeping tithe amounts private and allowing access only through secure methods,like only church administrators can prevent unauthorized edits, fraud, or data tampering for proper accountability.  \n",
    "This ensures trust between the church leaders and members, as records remain accurate, traceable, and securely managed.  \n",
    "Encapsulation therefore maintains both accountability and integrity in handling Church tithes.\n"
   ]
  },
  {
   "cell_type": "code",
   "execution_count": null,
   "id": "3fe493db",
   "metadata": {},
   "outputs": [],
   "source": [
    "from datetime import datetime\n",
    "\n",
    "class TitheAccount:\n",
    "    def __init__(self, member_name):\n",
    "        self.__member_name = member_name\n",
    "        self.__monthly_tithes = {\"January\": 10000}  # Start with UGX 10000\n",
    "        print(f\"Account for {self.__member_name} created. Starting tithe is UGX  (January).\")\n",
    "\n",
    "    def __current_month(self, month_number):\n",
    "        months = [\"January\", \"February\", \"March\", \"April\", \"May\", \"June\",\n",
    "                  \"July\", \"August\", \"September\", \"October\", \"November\", \"December\"]\n",
    "        return months[(month_number - 1) % 12]\n",
    "\n",
    "    def record_tithe(self, amount, month_number):\n",
    "        if amount < 1000:\n",
    "            raise ValueError(\"Minimum tithe amount is UGX 1,000.\")\n",
    "\n",
    "        month = self.__current_month(month_number)\n",
    "        last_month = list(self.__monthly_tithes.keys())[-1]\n",
    "        last_amount = self.__monthly_tithes[last_month]\n",
    "\n",
    "        # Detect decrease in tithe\n",
    "        if amount < last_amount:\n",
    "            print(f\"⚠️ {self.__member_name}'s tithe dropped from UGX {last_amount:,} to UGX {amount:,}.\")\n",
    "            print(\"   Suggest: Pray with or encourage this member.\\n\")\n",
    "\n",
    "        self.__monthly_tithes[month] = amount\n",
    "        print(f\"Tithe of UGX {amount:,} recorded for {self.__member_name} ({month}).\")\n",
    "\n",
    "    def view_report(self):\n",
    "        print(f\"\\n--- Tithe Report for {self.__member_name} ---\")\n",
    "        for month, amount in self.__monthly_tithes.items():\n",
    "            print(f\"{month}: UGX {amount:,}\")\n",
    "        total = sum(self.__monthly_tithes.values())\n",
    "        print(f\"Total Given: UGX {total:,}\")\n",
    "        print(f\"Last Updated: {datetime.now()}\\n\")\n",
    "\n",
    "    def get_total_tithe(self):\n",
    "        return sum(self.__monthly_tithes.values())\n",
    "\n",
    "\n",
    "class ChurchSystem:\n",
    "    def __init__(self, church_name):\n",
    "        self.church_name = church_name\n",
    "\n",
    "    def track_member_tithes(self, account, start_amount, increase_per_month, months):\n",
    "        current_amount = start_amount\n",
    "        for m in range(2, months + 2):\n",
    "            # Make April’s tithe smaller to trigger encouragement alert\n",
    "            if m == 4:\n",
    "                current_amount -= 5000  # simulate a drop\n",
    "            account.record_tithe(current_amount, m)\n",
    "            current_amount += increase_per_month  # return to normal growth\n",
    "\n",
    "    def show_member_report(self, account):\n",
    "        account.view_report()\n",
    "\n",
    "# --- Demonstration ---\n",
    "church = ChurchSystem(\"Sts. Phillip and Andrews Cathedral Mukono\")\n",
    "member1 = TitheAccount(\"Nakalyowa Hadijah\")\n",
    "\n",
    "# Simulate 6 months of tithes (April will drop slightly)\n",
    "church.track_member_tithes(member1, start_amount=10000, increase_per_month=10000, months=6)\n",
    "\n",
    "# View the member's full report\n",
    "church.show_member_report(member1)\n",
    "\n",
    "# Attempt tampering (should not affect real data)\n",
    "member1.__monthly_tithes = {\"FakeMonth\": 150000}\n",
    "print(\"Tampered fake data:\", member1.__monthly_tithes)\n",
    "print(\"Real total tithe:\", member1.get_total_tithe())\n"
   ]
  }
 ],
 "metadata": {
  "kernelspec": {
   "display_name": "Python 3",
   "language": "python",
   "name": "python3"
  },
  "language_info": {
   "name": "python",
   "version": "3.13.3"
  }
 },
 "nbformat": 4,
 "nbformat_minor": 5
}
